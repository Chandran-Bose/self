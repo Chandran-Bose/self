{
  "nbformat": 4,
  "nbformat_minor": 0,
  "metadata": {
    "colab": {
      "name": "Numpy_ex_3.ipynb",
      "provenance": []
    },
    "kernelspec": {
      "name": "python3",
      "display_name": "Python 3"
    }
  },
  "cells": [
    {
      "cell_type": "markdown",
      "metadata": {
        "id": "e3zO0fBwNk1r",
        "colab_type": "text"
      },
      "source": [
        "#to generate one-hot encodings for an array in numpy"
      ]
    },
    {
      "cell_type": "code",
      "metadata": {
        "id": "wt3brCahNpwo",
        "colab_type": "code",
        "colab": {
          "base_uri": "https://localhost:8080/",
          "height": 119
        },
        "outputId": "3368e844-6940-4cc1-b110-6e2e52ff8635"
      },
      "source": [
        "import numpy as np\n",
        "# Input:\n",
        "np.random.seed(101) \n",
        "arr = np.random.randint(1,4, size=6)\n",
        "arr\n",
        "#> array([2, 3, 2, 2, 2, 1])\n",
        "\n",
        "# Solution:\n",
        "def one_hot_encodings(arr):\n",
        "    uniqs = np.unique(arr)\n",
        "    out = np.zeros((arr.shape[0], uniqs.shape[0]))\n",
        "    for i, k in enumerate(arr):\n",
        "        out[i, k-1] = 1\n",
        "    return out\n",
        "\n",
        "one_hot_encodings(arr)"
      ],
      "execution_count": 2,
      "outputs": [
        {
          "output_type": "execute_result",
          "data": {
            "text/plain": [
              "array([[0., 1., 0.],\n",
              "       [0., 0., 1.],\n",
              "       [0., 1., 0.],\n",
              "       [0., 1., 0.],\n",
              "       [0., 1., 0.],\n",
              "       [1., 0., 0.]])"
            ]
          },
          "metadata": {
            "tags": []
          },
          "execution_count": 2
        }
      ]
    },
    {
      "cell_type": "markdown",
      "metadata": {
        "id": "jrjM44JFOIEE",
        "colab_type": "text"
      },
      "source": [
        "#to create row numbers grouped by a categorical variable"
      ]
    },
    {
      "cell_type": "code",
      "metadata": {
        "id": "pzcZTa1MOJcZ",
        "colab_type": "code",
        "colab": {
          "base_uri": "https://localhost:8080/",
          "height": 136
        },
        "outputId": "09aae7e2-042f-4d5c-ff90-d8ef91de5a10"
      },
      "source": [
        "# Input:\n",
        "url = 'https://archive.ics.uci.edu/ml/machine-learning-databases/iris/iris.data'\n",
        "species = np.genfromtxt(url, delimiter=',', dtype='str', usecols=4)\n",
        "np.random.seed(100)\n",
        "species_small = np.sort(np.random.choice(species, size=20))\n",
        "species_small"
      ],
      "execution_count": 3,
      "outputs": [
        {
          "output_type": "execute_result",
          "data": {
            "text/plain": [
              "array(['Iris-setosa', 'Iris-setosa', 'Iris-setosa', 'Iris-setosa',\n",
              "       'Iris-setosa', 'Iris-versicolor', 'Iris-versicolor',\n",
              "       'Iris-versicolor', 'Iris-versicolor', 'Iris-versicolor',\n",
              "       'Iris-versicolor', 'Iris-versicolor', 'Iris-versicolor',\n",
              "       'Iris-versicolor', 'Iris-virginica', 'Iris-virginica',\n",
              "       'Iris-virginica', 'Iris-virginica', 'Iris-virginica',\n",
              "       'Iris-virginica'], dtype='<U15')"
            ]
          },
          "metadata": {
            "tags": []
          },
          "execution_count": 3
        }
      ]
    },
    {
      "cell_type": "markdown",
      "metadata": {
        "id": "qPoPivSBOQxf",
        "colab_type": "text"
      },
      "source": [
        "#to create groud ids based on a given categorical variable"
      ]
    },
    {
      "cell_type": "code",
      "metadata": {
        "id": "XqdCo6GBOSh_",
        "colab_type": "code",
        "colab": {
          "base_uri": "https://localhost:8080/",
          "height": 136
        },
        "outputId": "505ef851-d62c-489a-83b9-3e5842cff136"
      },
      "source": [
        "# Input:\n",
        "url = 'https://archive.ics.uci.edu/ml/machine-learning-databases/iris/iris.data'\n",
        "species = np.genfromtxt(url, delimiter=',', dtype='str', usecols=4)\n",
        "np.random.seed(100)\n",
        "species_small = np.sort(np.random.choice(species, size=20))\n",
        "species_small"
      ],
      "execution_count": 4,
      "outputs": [
        {
          "output_type": "execute_result",
          "data": {
            "text/plain": [
              "array(['Iris-setosa', 'Iris-setosa', 'Iris-setosa', 'Iris-setosa',\n",
              "       'Iris-setosa', 'Iris-versicolor', 'Iris-versicolor',\n",
              "       'Iris-versicolor', 'Iris-versicolor', 'Iris-versicolor',\n",
              "       'Iris-versicolor', 'Iris-versicolor', 'Iris-versicolor',\n",
              "       'Iris-versicolor', 'Iris-virginica', 'Iris-virginica',\n",
              "       'Iris-virginica', 'Iris-virginica', 'Iris-virginica',\n",
              "       'Iris-virginica'], dtype='<U15')"
            ]
          },
          "metadata": {
            "tags": []
          },
          "execution_count": 4
        }
      ]
    },
    {
      "cell_type": "markdown",
      "metadata": {
        "id": "HnQ41HM0OZX3",
        "colab_type": "text"
      },
      "source": [
        "#to rank items in an array using numpy"
      ]
    },
    {
      "cell_type": "code",
      "metadata": {
        "id": "TcE2uD8HOao9",
        "colab_type": "code",
        "colab": {
          "base_uri": "https://localhost:8080/",
          "height": 68
        },
        "outputId": "39b9037e-c428-4d2f-d26b-0811d585e1b7"
      },
      "source": [
        "np.random.seed(10)\n",
        "a = np.random.randint(20, size=10)\n",
        "print('Array: ', a)\n",
        "\n",
        "# Solution\n",
        "print(a.argsort().argsort())\n",
        "print('Array: ', a)"
      ],
      "execution_count": 5,
      "outputs": [
        {
          "output_type": "stream",
          "text": [
            "Array:  [ 9  4 15  0 17 16 17  8  9  0]\n",
            "[4 2 6 0 8 7 9 3 5 1]\n",
            "Array:  [ 9  4 15  0 17 16 17  8  9  0]\n"
          ],
          "name": "stdout"
        }
      ]
    },
    {
      "cell_type": "markdown",
      "metadata": {
        "id": "HgMxtokGOg7j",
        "colab_type": "text"
      },
      "source": [
        "#to rank items in a multidimensional array using numpy"
      ]
    },
    {
      "cell_type": "code",
      "metadata": {
        "id": "WTcmNk7yOiLN",
        "colab_type": "code",
        "colab": {
          "base_uri": "https://localhost:8080/",
          "height": 85
        },
        "outputId": "3e5265d0-0e51-4db9-f990-c88adcb26796"
      },
      "source": [
        "# Input:\n",
        "np.random.seed(10)\n",
        "a = np.random.randint(20, size=[2,5])\n",
        "print(a)\n",
        "\n",
        "# Solution\n",
        "print(a.ravel().argsort().argsort().reshape(a.shape))"
      ],
      "execution_count": 6,
      "outputs": [
        {
          "output_type": "stream",
          "text": [
            "[[ 9  4 15  0 17]\n",
            " [16 17  8  9  0]]\n",
            "[[4 2 6 0 8]\n",
            " [7 9 3 5 1]]\n"
          ],
          "name": "stdout"
        }
      ]
    },
    {
      "cell_type": "markdown",
      "metadata": {
        "id": "IN7sOuA9OqD1",
        "colab_type": "text"
      },
      "source": [
        "#to find the maximum value in each row of a numpy array 2d"
      ]
    },
    {
      "cell_type": "code",
      "metadata": {
        "id": "Q7iJ5-XsOrQ4",
        "colab_type": "code",
        "colab": {
          "base_uri": "https://localhost:8080/",
          "height": 34
        },
        "outputId": "27a15402-00fd-4324-cdbd-dcb18984eff4"
      },
      "source": [
        "# Input\n",
        "np.random.seed(100)\n",
        "a = np.random.randint(1,10, [5,3])\n",
        "a\n",
        "\n",
        "# Solution 1\n",
        "np.amax(a, axis=1)\n",
        "\n",
        "# Solution 2\n",
        "np.apply_along_axis(np.max, arr=a, axis=1)"
      ],
      "execution_count": 7,
      "outputs": [
        {
          "output_type": "execute_result",
          "data": {
            "text/plain": [
              "array([9, 8, 6, 3, 9])"
            ]
          },
          "metadata": {
            "tags": []
          },
          "execution_count": 7
        }
      ]
    },
    {
      "cell_type": "markdown",
      "metadata": {
        "id": "Rgtp3p5gOyhh",
        "colab_type": "text"
      },
      "source": [
        "#to compute the min-by-max for each row for a numpy array 2d"
      ]
    },
    {
      "cell_type": "code",
      "metadata": {
        "id": "yrMvpcyGOzsg",
        "colab_type": "code",
        "colab": {
          "base_uri": "https://localhost:8080/",
          "height": 34
        },
        "outputId": "d1d32747-fbd5-4bc3-e5fb-402c8885cad3"
      },
      "source": [
        "# Input\n",
        "np.random.seed(100)\n",
        "a = np.random.randint(1,10, [5,3])\n",
        "a\n",
        "\n",
        "# Solution\n",
        "np.apply_along_axis(lambda x: np.min(x)/np.max(x), arr=a, axis=1)"
      ],
      "execution_count": 8,
      "outputs": [
        {
          "output_type": "execute_result",
          "data": {
            "text/plain": [
              "array([0.44444444, 0.125     , 0.5       , 1.        , 0.11111111])"
            ]
          },
          "metadata": {
            "tags": []
          },
          "execution_count": 8
        }
      ]
    },
    {
      "cell_type": "markdown",
      "metadata": {
        "id": "0uy5vbTFO50Y",
        "colab_type": "text"
      },
      "source": [
        "#to find the duplicate records in a numpy array"
      ]
    },
    {
      "cell_type": "code",
      "metadata": {
        "id": "xetwr2uPO6_w",
        "colab_type": "code",
        "colab": {
          "base_uri": "https://localhost:8080/",
          "height": 34
        },
        "outputId": "bd087ec2-d4b5-4426-efac-12b07b4d8fa4"
      },
      "source": [
        "# Input\n",
        "np.random.seed(100)\n",
        "a = np.random.randint(0, 5, 10)\n",
        "\n",
        "## Solution\n",
        "# There is no direct function to do this as of 1.13.3\n",
        "\n",
        "# Create an all True array\n",
        "out = np.full(a.shape[0], True)\n",
        "\n",
        "# Find the index positions of unique elements\n",
        "unique_positions = np.unique(a, return_index=True)[1]\n",
        "\n",
        "# Mark those positions as False\n",
        "out[unique_positions] = False\n",
        "\n",
        "print(out)"
      ],
      "execution_count": 9,
      "outputs": [
        {
          "output_type": "stream",
          "text": [
            "[False  True False  True False False  True  True  True  True]\n"
          ],
          "name": "stdout"
        }
      ]
    },
    {
      "cell_type": "markdown",
      "metadata": {
        "id": "XNn2AAdEPEIt",
        "colab_type": "text"
      },
      "source": [
        "#to find the grouped mean in numpy"
      ]
    },
    {
      "cell_type": "code",
      "metadata": {
        "id": "2N03wCddPFZ0",
        "colab_type": "code",
        "colab": {
          "base_uri": "https://localhost:8080/",
          "height": 68
        },
        "outputId": "d538a065-a51a-4521-cde4-87fbceeea7cb"
      },
      "source": [
        "url = 'https://archive.ics.uci.edu/ml/machine-learning-databases/iris/iris.data'\n",
        "iris = np.genfromtxt(url, delimiter=',', dtype='object')\n",
        "# Solution\n",
        "# No direct way to implement this. Just a version of a workaround.\n",
        "numeric_column = iris[:, 1].astype('float')  # sepalwidth\n",
        "grouping_column = iris[:, 4]  # species\n",
        "\n",
        "# List comprehension version\n",
        "[[group_val, numeric_column[grouping_column==group_val].mean()] for group_val in np.unique(grouping_column)]\n",
        "\n",
        "# For Loop version\n",
        "output = []\n",
        "for group_val in np.unique(grouping_column):\n",
        "    output.append([group_val, numeric_column[grouping_column==group_val].mean()])\n",
        "\n",
        "output"
      ],
      "execution_count": 11,
      "outputs": [
        {
          "output_type": "execute_result",
          "data": {
            "text/plain": [
              "[[b'Iris-setosa', 3.418],\n",
              " [b'Iris-versicolor', 2.7700000000000005],\n",
              " [b'Iris-virginica', 2.974]]"
            ]
          },
          "metadata": {
            "tags": []
          },
          "execution_count": 11
        }
      ]
    },
    {
      "cell_type": "markdown",
      "metadata": {
        "id": "su71tPZXQYIG",
        "colab_type": "text"
      },
      "source": [
        "#to drop all missing values from a numpy array"
      ]
    },
    {
      "cell_type": "code",
      "metadata": {
        "id": "wTZnK6JvQdHF",
        "colab_type": "code",
        "colab": {
          "base_uri": "https://localhost:8080/",
          "height": 34
        },
        "outputId": "1c8cdf86-acf1-4559-beef-2bdf4556f50a"
      },
      "source": [
        "a = np.array([1,2,3,np.nan,5,6,7,np.nan])\n",
        "a[~np.isnan(a)]"
      ],
      "execution_count": 16,
      "outputs": [
        {
          "output_type": "execute_result",
          "data": {
            "text/plain": [
              "array([1., 2., 3., 5., 6., 7.])"
            ]
          },
          "metadata": {
            "tags": []
          },
          "execution_count": 16
        }
      ]
    },
    {
      "cell_type": "markdown",
      "metadata": {
        "id": "8TcGNGPORkBI",
        "colab_type": "text"
      },
      "source": [
        "#to compute the euclidean distance between two arrays"
      ]
    },
    {
      "cell_type": "code",
      "metadata": {
        "id": "llhqAhTARm4F",
        "colab_type": "code",
        "colab": {
          "base_uri": "https://localhost:8080/",
          "height": 34
        },
        "outputId": "a3c3e7e9-3906-46a5-dc1f-566c4947606b"
      },
      "source": [
        "# Input\n",
        "a = np.array([1,2,3,4,5])\n",
        "b = np.array([4,5,6,7,8])\n",
        "\n",
        "# Solution\n",
        "dist = np.linalg.norm(a-b)\n",
        "dist"
      ],
      "execution_count": 17,
      "outputs": [
        {
          "output_type": "execute_result",
          "data": {
            "text/plain": [
              "6.708203932499369"
            ]
          },
          "metadata": {
            "tags": []
          },
          "execution_count": 17
        }
      ]
    },
    {
      "cell_type": "markdown",
      "metadata": {
        "id": "p2URQ6O3Ruyv",
        "colab_type": "text"
      },
      "source": [
        "#to find all the local maxima (or peaks) in a 1d array"
      ]
    },
    {
      "cell_type": "code",
      "metadata": {
        "id": "MLlUvlUdRv9n",
        "colab_type": "code",
        "colab": {
          "base_uri": "https://localhost:8080/",
          "height": 34
        },
        "outputId": "cbe46a20-b24d-4c91-f94a-32dc37321969"
      },
      "source": [
        "a = np.array([1, 3, 7, 1, 2, 6, 0, 1])\n",
        "doublediff = np.diff(np.sign(np.diff(a)))\n",
        "peak_locations = np.where(doublediff == -2)[0] + 1\n",
        "peak_locations"
      ],
      "execution_count": 18,
      "outputs": [
        {
          "output_type": "execute_result",
          "data": {
            "text/plain": [
              "array([2, 5])"
            ]
          },
          "metadata": {
            "tags": []
          },
          "execution_count": 18
        }
      ]
    },
    {
      "cell_type": "markdown",
      "metadata": {
        "id": "sdyMZqsmR4fp",
        "colab_type": "text"
      },
      "source": [
        "#to subtract a 1d array from a 2d array, where each item of 1d array subtracts from respective row"
      ]
    },
    {
      "cell_type": "code",
      "metadata": {
        "id": "Jw5YI7bSR5x1",
        "colab_type": "code",
        "colab": {
          "base_uri": "https://localhost:8080/",
          "height": 68
        },
        "outputId": "a3416e62-23ef-498e-c83e-9fa60f0caff2"
      },
      "source": [
        "# Input\n",
        "a_2d = np.array([[3,3,3],[4,4,4],[5,5,5]])\n",
        "b_1d = np.array([1,2,3])\n",
        "\n",
        "# Solution\n",
        "print(a_2d - b_1d[:,None])"
      ],
      "execution_count": 19,
      "outputs": [
        {
          "output_type": "stream",
          "text": [
            "[[2 2 2]\n",
            " [2 2 2]\n",
            " [2 2 2]]\n"
          ],
          "name": "stdout"
        }
      ]
    },
    {
      "cell_type": "markdown",
      "metadata": {
        "id": "q4J0v9k_SA7z",
        "colab_type": "text"
      },
      "source": [
        "#to find the index of n’th repetition of an item in an array"
      ]
    },
    {
      "cell_type": "code",
      "metadata": {
        "id": "xwCAYhHzSCKM",
        "colab_type": "code",
        "colab": {
          "base_uri": "https://localhost:8080/",
          "height": 34
        },
        "outputId": "2f17b818-8830-4437-f016-639935093dea"
      },
      "source": [
        "x = np.array([1, 2, 1, 1, 3, 4, 3, 1, 1, 2, 1, 1, 2])\n",
        "n = 5\n",
        "\n",
        "# Solution 1: List comprehension\n",
        "[i for i, v in enumerate(x) if v == 1][n-1]\n",
        "\n",
        "# Solution 2: Numpy version\n",
        "np.where(x == 1)[0][n-1]"
      ],
      "execution_count": 20,
      "outputs": [
        {
          "output_type": "execute_result",
          "data": {
            "text/plain": [
              "8"
            ]
          },
          "metadata": {
            "tags": []
          },
          "execution_count": 20
        }
      ]
    },
    {
      "cell_type": "markdown",
      "metadata": {
        "id": "qwx7zR-NSJ_Y",
        "colab_type": "text"
      },
      "source": [
        "#to convert numpy’s datetime64 object to datetime’s datetime object"
      ]
    },
    {
      "cell_type": "code",
      "metadata": {
        "id": "fKta60xnSLnn",
        "colab_type": "code",
        "colab": {
          "base_uri": "https://localhost:8080/",
          "height": 34
        },
        "outputId": "fc08ff32-3941-4eb9-d8ee-0ce3577c4749"
      },
      "source": [
        "# Input: a numpy datetime64 object\n",
        "dt64 = np.datetime64('2018-02-25 22:10:10')\n",
        "\n",
        "# Solution\n",
        "from datetime import datetime\n",
        "dt64.tolist()\n",
        "\n",
        "# or\n",
        "\n",
        "dt64.astype(datetime)"
      ],
      "execution_count": 21,
      "outputs": [
        {
          "output_type": "execute_result",
          "data": {
            "text/plain": [
              "datetime.datetime(2018, 2, 25, 22, 10, 10)"
            ]
          },
          "metadata": {
            "tags": []
          },
          "execution_count": 21
        }
      ]
    },
    {
      "cell_type": "markdown",
      "metadata": {
        "id": "I0rCJ9R8SQHr",
        "colab_type": "text"
      },
      "source": [
        "#to compute the moving average"
      ]
    },
    {
      "cell_type": "code",
      "metadata": {
        "id": "BEoAvzHsSV7F",
        "colab_type": "code",
        "colab": {
          "base_uri": "https://localhost:8080/",
          "height": 68
        },
        "outputId": "e41904a5-fde5-4571-85ea-ef3e03aede7a"
      },
      "source": [
        "# Solution\n",
        "# Source: https://stackoverflow.com/questions/14313510/how-to-calculate-moving-average-using-numpy\n",
        "def moving_average(a, n=3) :\n",
        "    ret = np.cumsum(a, dtype=float)\n",
        "    ret[n:] = ret[n:] - ret[:-n]\n",
        "    return ret[n - 1:] / n\n",
        "\n",
        "np.random.seed(100)\n",
        "Z = np.random.randint(10, size=10)\n",
        "print('array: ', Z)\n",
        "# Method 1\n",
        "moving_average(Z, n=3).round(2)\n",
        "\n",
        "# Method 2:  # Thanks AlanLRH!\n",
        "# np.ones(3)/3 gives equal weights. Use np.ones(4)/4 for window size 4.\n",
        "np.convolve(Z, np.ones(3)/3, mode='valid')"
      ],
      "execution_count": 22,
      "outputs": [
        {
          "output_type": "stream",
          "text": [
            "array:  [8 8 3 7 7 0 4 2 5 2]\n"
          ],
          "name": "stdout"
        },
        {
          "output_type": "execute_result",
          "data": {
            "text/plain": [
              "array([6.33333333, 6.        , 5.66666667, 4.66666667, 3.66666667,\n",
              "       2.        , 3.66666667, 3.        ])"
            ]
          },
          "metadata": {
            "tags": []
          },
          "execution_count": 22
        }
      ]
    },
    {
      "cell_type": "markdown",
      "metadata": {
        "id": "XItwx2V5Sg5d",
        "colab_type": "text"
      },
      "source": [
        "#to create a numpy array sequence given only the starting point, length and the step"
      ]
    },
    {
      "cell_type": "code",
      "metadata": {
        "id": "ckB53iFpSiO9",
        "colab_type": "code",
        "colab": {
          "base_uri": "https://localhost:8080/",
          "height": 34
        },
        "outputId": "388d30cb-9a0d-434e-d66e-1ec61c98c196"
      },
      "source": [
        "length = 10\n",
        "start = 5\n",
        "step = 3\n",
        "\n",
        "def seq(start, length, step):\n",
        "    end = start + (step*length)\n",
        "    return np.arange(start, end, step)\n",
        "\n",
        "seq(start, length, step)"
      ],
      "execution_count": 23,
      "outputs": [
        {
          "output_type": "execute_result",
          "data": {
            "text/plain": [
              "array([ 5,  8, 11, 14, 17, 20, 23, 26, 29, 32])"
            ]
          },
          "metadata": {
            "tags": []
          },
          "execution_count": 23
        }
      ]
    },
    {
      "cell_type": "markdown",
      "metadata": {
        "id": "3uvMsXITSo9J",
        "colab_type": "text"
      },
      "source": [
        "#to fill in missing dates in an irregular series of numpy dates"
      ]
    },
    {
      "cell_type": "code",
      "metadata": {
        "id": "xf9Gr2NTSqhR",
        "colab_type": "code",
        "colab": {
          "base_uri": "https://localhost:8080/",
          "height": 170
        },
        "outputId": "8feff28c-a7a5-4f54-bf58-2c4d44ee347a"
      },
      "source": [
        "# Input\n",
        "dates = np.arange(np.datetime64('2018-02-01'), np.datetime64('2018-02-25'), 2)\n",
        "print(dates)\n",
        "\n",
        "# Solution ---------------\n",
        "filled_in = np.array([np.arange(date, (date+d)) for date, d in zip(dates, np.diff(dates))]).reshape(-1)\n",
        "\n",
        "# add the last day\n",
        "output = np.hstack([filled_in, dates[-1]])\n",
        "output\n",
        "\n",
        "# For loop version -------\n",
        "out = []\n",
        "for date, d in zip(dates, np.diff(dates)):\n",
        "    out.append(np.arange(date, (date+d)))\n",
        "\n",
        "filled_in = np.array(out).reshape(-1)\n",
        "\n",
        "# add the last day\n",
        "output = np.hstack([filled_in, dates[-1]])\n",
        "output"
      ],
      "execution_count": 24,
      "outputs": [
        {
          "output_type": "stream",
          "text": [
            "['2018-02-01' '2018-02-03' '2018-02-05' '2018-02-07' '2018-02-09'\n",
            " '2018-02-11' '2018-02-13' '2018-02-15' '2018-02-17' '2018-02-19'\n",
            " '2018-02-21' '2018-02-23']\n"
          ],
          "name": "stdout"
        },
        {
          "output_type": "execute_result",
          "data": {
            "text/plain": [
              "array(['2018-02-01', '2018-02-02', '2018-02-03', '2018-02-04',\n",
              "       '2018-02-05', '2018-02-06', '2018-02-07', '2018-02-08',\n",
              "       '2018-02-09', '2018-02-10', '2018-02-11', '2018-02-12',\n",
              "       '2018-02-13', '2018-02-14', '2018-02-15', '2018-02-16',\n",
              "       '2018-02-17', '2018-02-18', '2018-02-19', '2018-02-20',\n",
              "       '2018-02-21', '2018-02-22', '2018-02-23'], dtype='datetime64[D]')"
            ]
          },
          "metadata": {
            "tags": []
          },
          "execution_count": 24
        }
      ]
    },
    {
      "cell_type": "markdown",
      "metadata": {
        "id": "cpxJ5yQjS0e5",
        "colab_type": "text"
      },
      "source": [
        "#to create strides from a given 1D array"
      ]
    },
    {
      "cell_type": "code",
      "metadata": {
        "id": "gVUTL4yjS1yY",
        "colab_type": "code",
        "colab": {
          "base_uri": "https://localhost:8080/",
          "height": 119
        },
        "outputId": "67884651-f4e3-4b9d-92ad-deed5f5907fc"
      },
      "source": [
        "def gen_strides(a, stride_len=5, window_len=5):\n",
        "    n_strides = ((a.size-window_len)//stride_len) + 1\n",
        "    # return np.array([a[s:(s+window_len)] for s in np.arange(0, a.size, stride_len)[:n_strides]])\n",
        "    return np.array([a[s:(s+window_len)] for s in np.arange(0, n_strides*stride_len, stride_len)])\n",
        "\n",
        "print(gen_strides(np.arange(15), stride_len=2, window_len=4))"
      ],
      "execution_count": 25,
      "outputs": [
        {
          "output_type": "stream",
          "text": [
            "[[ 0  1  2  3]\n",
            " [ 2  3  4  5]\n",
            " [ 4  5  6  7]\n",
            " [ 6  7  8  9]\n",
            " [ 8  9 10 11]\n",
            " [10 11 12 13]]\n"
          ],
          "name": "stdout"
        }
      ]
    }
  ]
}