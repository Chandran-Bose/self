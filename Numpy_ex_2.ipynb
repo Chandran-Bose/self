{
  "nbformat": 4,
  "nbformat_minor": 0,
  "metadata": {
    "colab": {
      "name": "Numpy_ex_2.ipynb",
      "provenance": []
    },
    "kernelspec": {
      "name": "python3",
      "display_name": "Python 3"
    }
  },
  "cells": [
    {
      "cell_type": "code",
      "metadata": {
        "id": "CPi9IKXRtyrw",
        "colab_type": "code",
        "colab": {}
      },
      "source": [
        "import numpy as np"
      ],
      "execution_count": 0,
      "outputs": []
    },
    {
      "cell_type": "markdown",
      "metadata": {
        "id": "o-bVIcZ0wF35",
        "colab_type": "text"
      },
      "source": [
        "#to convert a 1d array of tuples to a 2d"
      ]
    },
    {
      "cell_type": "code",
      "metadata": {
        "id": "fU1__EyYwHNa",
        "colab_type": "code",
        "colab": {
          "base_uri": "https://localhost:8080/",
          "height": 139
        },
        "outputId": "6bfbfd3e-0bbf-48fd-d54b-f2685bdea40b"
      },
      "source": [
        "# Input:\n",
        "url = 'https://archive.ics.uci.edu/ml/machine-learning-databases/iris/iris.data'\n",
        "iris_1d = np.genfromtxt(url, delimiter=',', dtype=None)\n",
        "\n",
        "# Solution:\n",
        "# Method 1: Convert each row to a list and get the first 4 items\n",
        "iris_2d = np.array([row.tolist()[:4] for row in iris_1d])\n",
        "iris_2d[:4]\n",
        "\n",
        "# Alt Method 2: Import only the first 4 columns from source url\n",
        "iris_2d = np.genfromtxt(url, delimiter=',', dtype='float', usecols=[0,1,2,3])\n",
        "iris_2d[:4]"
      ],
      "execution_count": 11,
      "outputs": [
        {
          "output_type": "stream",
          "text": [
            "/usr/local/lib/python3.6/dist-packages/ipykernel_launcher.py:2: VisibleDeprecationWarning: Reading unicode strings without specifying the encoding argument is deprecated. Set the encoding, use None for the system default.\n",
            "  \n"
          ],
          "name": "stderr"
        },
        {
          "output_type": "execute_result",
          "data": {
            "text/plain": [
              "array([[5.1, 3.5, 1.4, 0.2],\n",
              "       [4.9, 3. , 1.4, 0.2],\n",
              "       [4.7, 3.2, 1.3, 0.2],\n",
              "       [4.6, 3.1, 1.5, 0.2]])"
            ]
          },
          "metadata": {
            "tags": []
          },
          "execution_count": 11
        }
      ]
    },
    {
      "cell_type": "markdown",
      "metadata": {
        "id": "d7i6FnylwZiO",
        "colab_type": "text"
      },
      "source": [
        "#to compute the mean, median, standard deviation"
      ]
    },
    {
      "cell_type": "code",
      "metadata": {
        "id": "ug9p-iTKwbPa",
        "colab_type": "code",
        "colab": {
          "base_uri": "https://localhost:8080/",
          "height": 34
        },
        "outputId": "43c470c1-7e1f-48cf-997b-62a62ef30357"
      },
      "source": [
        "# Input\n",
        "url = 'https://archive.ics.uci.edu/ml/machine-learning-databases/iris/iris.data'\n",
        "iris = np.genfromtxt(url, delimiter=',', dtype='object')\n",
        "sepallength = np.genfromtxt(url, delimiter=',', dtype='float', usecols=[0])\n",
        "\n",
        "# Solution\n",
        "mu, med, sd = np.mean(sepallength), np.median(sepallength), np.std(sepallength)\n",
        "print(mu, med, sd)"
      ],
      "execution_count": 12,
      "outputs": [
        {
          "output_type": "stream",
          "text": [
            "5.843333333333334 5.8 0.8253012917851409\n"
          ],
          "name": "stdout"
        }
      ]
    },
    {
      "cell_type": "markdown",
      "metadata": {
        "id": "f5F5l2sBwnMW",
        "colab_type": "text"
      },
      "source": [
        "#to normalize an array so the values range exactly between 0 and 1"
      ]
    },
    {
      "cell_type": "code",
      "metadata": {
        "id": "_MSOhQsdwowk",
        "colab_type": "code",
        "colab": {
          "base_uri": "https://localhost:8080/",
          "height": 442
        },
        "outputId": "8b53741c-fdae-4ae5-cc4a-43507678a738"
      },
      "source": [
        "# Input\n",
        "url = 'https://archive.ics.uci.edu/ml/machine-learning-databases/iris/iris.data'\n",
        "sepallength = np.genfromtxt(url, delimiter=',', dtype='float', usecols=[0])\n",
        "\n",
        "# Solution\n",
        "Smax, Smin = sepallength.max(), sepallength.min()\n",
        "S = (sepallength - Smin)/(Smax - Smin)\n",
        "# or \n",
        "S = (sepallength - Smin)/sepallength.ptp()  # Thanks, David Ojeda!\n",
        "print(S)"
      ],
      "execution_count": 13,
      "outputs": [
        {
          "output_type": "stream",
          "text": [
            "[0.22222222 0.16666667 0.11111111 0.08333333 0.19444444 0.30555556\n",
            " 0.08333333 0.19444444 0.02777778 0.16666667 0.30555556 0.13888889\n",
            " 0.13888889 0.         0.41666667 0.38888889 0.30555556 0.22222222\n",
            " 0.38888889 0.22222222 0.30555556 0.22222222 0.08333333 0.22222222\n",
            " 0.13888889 0.19444444 0.19444444 0.25       0.25       0.11111111\n",
            " 0.13888889 0.30555556 0.25       0.33333333 0.16666667 0.19444444\n",
            " 0.33333333 0.16666667 0.02777778 0.22222222 0.19444444 0.05555556\n",
            " 0.02777778 0.19444444 0.22222222 0.13888889 0.22222222 0.08333333\n",
            " 0.27777778 0.19444444 0.75       0.58333333 0.72222222 0.33333333\n",
            " 0.61111111 0.38888889 0.55555556 0.16666667 0.63888889 0.25\n",
            " 0.19444444 0.44444444 0.47222222 0.5        0.36111111 0.66666667\n",
            " 0.36111111 0.41666667 0.52777778 0.36111111 0.44444444 0.5\n",
            " 0.55555556 0.5        0.58333333 0.63888889 0.69444444 0.66666667\n",
            " 0.47222222 0.38888889 0.33333333 0.33333333 0.41666667 0.47222222\n",
            " 0.30555556 0.47222222 0.66666667 0.55555556 0.36111111 0.33333333\n",
            " 0.33333333 0.5        0.41666667 0.19444444 0.36111111 0.38888889\n",
            " 0.38888889 0.52777778 0.22222222 0.38888889 0.55555556 0.41666667\n",
            " 0.77777778 0.55555556 0.61111111 0.91666667 0.16666667 0.83333333\n",
            " 0.66666667 0.80555556 0.61111111 0.58333333 0.69444444 0.38888889\n",
            " 0.41666667 0.58333333 0.61111111 0.94444444 0.94444444 0.47222222\n",
            " 0.72222222 0.36111111 0.94444444 0.55555556 0.66666667 0.80555556\n",
            " 0.52777778 0.5        0.58333333 0.80555556 0.86111111 1.\n",
            " 0.58333333 0.55555556 0.5        0.94444444 0.55555556 0.58333333\n",
            " 0.47222222 0.72222222 0.66666667 0.72222222 0.41666667 0.69444444\n",
            " 0.66666667 0.66666667 0.55555556 0.61111111 0.52777778 0.44444444]\n"
          ],
          "name": "stdout"
        }
      ]
    },
    {
      "cell_type": "markdown",
      "metadata": {
        "id": "RPHfUFxmw-_5",
        "colab_type": "text"
      },
      "source": [
        "#to compute the softmax score"
      ]
    },
    {
      "cell_type": "code",
      "metadata": {
        "id": "s25Zz7otxAZp",
        "colab_type": "code",
        "colab": {
          "base_uri": "https://localhost:8080/",
          "height": 442
        },
        "outputId": "3aed490f-e42b-4f33-8593-89955749a7c9"
      },
      "source": [
        "# Input\n",
        "url = 'https://archive.ics.uci.edu/ml/machine-learning-databases/iris/iris.data'\n",
        "iris = np.genfromtxt(url, delimiter=',', dtype='object')\n",
        "sepallength = np.array([float(row[0]) for row in iris])\n",
        "\n",
        "# Solution\n",
        "def softmax(x):\n",
        "  \n",
        "    e_x = np.exp(x - np.max(x))\n",
        "    return e_x / e_x.sum(axis=0)\n",
        "\n",
        "print(softmax(sepallength))"
      ],
      "execution_count": 15,
      "outputs": [
        {
          "output_type": "stream",
          "text": [
            "[0.00221959 0.00181724 0.00148783 0.00134625 0.00200836 0.00299613\n",
            " 0.00134625 0.00200836 0.00110221 0.00181724 0.00299613 0.00164431\n",
            " 0.00164431 0.00099732 0.0044697  0.00404435 0.00299613 0.00221959\n",
            " 0.00404435 0.00221959 0.00299613 0.00221959 0.00134625 0.00221959\n",
            " 0.00164431 0.00200836 0.00200836 0.00245302 0.00245302 0.00148783\n",
            " 0.00164431 0.00299613 0.00245302 0.00331123 0.00181724 0.00200836\n",
            " 0.00331123 0.00181724 0.00110221 0.00221959 0.00200836 0.00121813\n",
            " 0.00110221 0.00200836 0.00221959 0.00164431 0.00221959 0.00134625\n",
            " 0.00271101 0.00200836 0.01483991 0.00814432 0.01342771 0.00331123\n",
            " 0.00900086 0.00404435 0.00736928 0.00181724 0.00994749 0.00245302\n",
            " 0.00200836 0.00493978 0.0054593  0.00603346 0.00365948 0.01099368\n",
            " 0.00365948 0.0044697  0.006668   0.00365948 0.00493978 0.00603346\n",
            " 0.00736928 0.00603346 0.00814432 0.00994749 0.01214989 0.01099368\n",
            " 0.0054593  0.00404435 0.00331123 0.00331123 0.0044697  0.0054593\n",
            " 0.00299613 0.0054593  0.01099368 0.00736928 0.00365948 0.00331123\n",
            " 0.00331123 0.00603346 0.0044697  0.00200836 0.00365948 0.00404435\n",
            " 0.00404435 0.006668   0.00221959 0.00404435 0.00736928 0.0044697\n",
            " 0.01640064 0.00736928 0.00900086 0.02704008 0.00181724 0.02003179\n",
            " 0.01099368 0.01812551 0.00900086 0.00814432 0.01214989 0.00404435\n",
            " 0.0044697  0.00814432 0.00900086 0.02988391 0.02988391 0.0054593\n",
            " 0.01342771 0.00365948 0.02988391 0.00736928 0.01099368 0.01812551\n",
            " 0.006668   0.00603346 0.00814432 0.01812551 0.02213855 0.0365003\n",
            " 0.00814432 0.00736928 0.00603346 0.02988391 0.00736928 0.00814432\n",
            " 0.0054593  0.01342771 0.01099368 0.01342771 0.0044697  0.01214989\n",
            " 0.01099368 0.01099368 0.00736928 0.00900086 0.006668   0.00493978]\n"
          ],
          "name": "stdout"
        }
      ]
    },
    {
      "cell_type": "markdown",
      "metadata": {
        "id": "_lknQpMKxYQ6",
        "colab_type": "text"
      },
      "source": [
        "#to find the percentile scores"
      ]
    },
    {
      "cell_type": "code",
      "metadata": {
        "id": "HytCkEnExZ6V",
        "colab_type": "code",
        "colab": {
          "base_uri": "https://localhost:8080/",
          "height": 34
        },
        "outputId": "583506fe-1760-4318-da75-d70c6a9e9688"
      },
      "source": [
        "# Input\n",
        "url = 'https://archive.ics.uci.edu/ml/machine-learning-databases/iris/iris.data'\n",
        "sepallength = np.genfromtxt(url, delimiter=',', dtype='float', usecols=[0])\n",
        "\n",
        "# Solution\n",
        "np.percentile(sepallength, q=[5, 95])"
      ],
      "execution_count": 16,
      "outputs": [
        {
          "output_type": "execute_result",
          "data": {
            "text/plain": [
              "array([4.6  , 7.255])"
            ]
          },
          "metadata": {
            "tags": []
          },
          "execution_count": 16
        }
      ]
    },
    {
      "cell_type": "markdown",
      "metadata": {
        "id": "OJcU5rKBxmBG",
        "colab_type": "text"
      },
      "source": [
        "#to insert values at random positions in an array"
      ]
    },
    {
      "cell_type": "code",
      "metadata": {
        "id": "_4oVgKzKxnpt",
        "colab_type": "code",
        "colab": {
          "base_uri": "https://localhost:8080/",
          "height": 187
        },
        "outputId": "adcdf83e-2eec-4d69-fe90-1b78bfcec925"
      },
      "source": [
        "# Input\n",
        "url = 'https://archive.ics.uci.edu/ml/machine-learning-databases/iris/iris.data'\n",
        "iris_2d = np.genfromtxt(url, delimiter=',', dtype='object')\n",
        "\n",
        "# Method 1\n",
        "i, j = np.where(iris_2d)\n",
        "\n",
        "# i, j contain the row numbers and column numbers of 600 elements of iris_x\n",
        "np.random.seed(100)\n",
        "iris_2d[np.random.choice((i), 20), np.random.choice((j), 20)] = np.nan\n",
        "\n",
        "# Method 2\n",
        "np.random.seed(100)\n",
        "iris_2d[np.random.randint(150, size=20), np.random.randint(4, size=20)] = np.nan\n",
        "\n",
        "# Print first 10 rows\n",
        "print(iris_2d[:10])"
      ],
      "execution_count": 17,
      "outputs": [
        {
          "output_type": "stream",
          "text": [
            "[[b'5.1' b'3.5' b'1.4' b'0.2' b'Iris-setosa']\n",
            " [b'4.9' b'3.0' b'1.4' b'0.2' b'Iris-setosa']\n",
            " [b'4.7' b'3.2' b'1.3' b'0.2' b'Iris-setosa']\n",
            " [b'4.6' b'3.1' b'1.5' b'0.2' b'Iris-setosa']\n",
            " [b'5.0' b'3.6' b'1.4' b'0.2' b'Iris-setosa']\n",
            " [b'5.4' b'3.9' b'1.7' b'0.4' b'Iris-setosa']\n",
            " [b'4.6' b'3.4' b'1.4' b'0.3' b'Iris-setosa']\n",
            " [b'5.0' b'3.4' b'1.5' b'0.2' b'Iris-setosa']\n",
            " [b'4.4' nan b'1.4' b'0.2' b'Iris-setosa']\n",
            " [b'4.9' b'3.1' b'1.5' b'0.1' b'Iris-setosa']]\n"
          ],
          "name": "stdout"
        }
      ]
    },
    {
      "cell_type": "markdown",
      "metadata": {
        "id": "lTStOSMex0Xd",
        "colab_type": "text"
      },
      "source": [
        "#to find the position of missing values in numpy array"
      ]
    },
    {
      "cell_type": "code",
      "metadata": {
        "id": "Wrpa1zM-x2mt",
        "colab_type": "code",
        "colab": {
          "base_uri": "https://localhost:8080/",
          "height": 85
        },
        "outputId": "9c0ebff7-2fed-45ac-8c0d-927570ce1425"
      },
      "source": [
        "# Input\n",
        "url = 'https://archive.ics.uci.edu/ml/machine-learning-databases/iris/iris.data'\n",
        "iris_2d = np.genfromtxt(url, delimiter=',', dtype='float', usecols=[0,1,2,3])\n",
        "iris_2d[np.random.randint(150, size=20), np.random.randint(4, size=20)] = np.nan\n",
        "\n",
        "# Solution\n",
        "print(\"Number of missing values: \\n\", np.isnan(iris_2d[:, 0]).sum())\n",
        "print(\"Position of missing values: \\n\", np.where(np.isnan(iris_2d[:, 0])))"
      ],
      "execution_count": 18,
      "outputs": [
        {
          "output_type": "stream",
          "text": [
            "Number of missing values: \n",
            " 5\n",
            "Position of missing values: \n",
            " (array([ 38,  80, 106, 113, 121]),)\n"
          ],
          "name": "stdout"
        }
      ]
    },
    {
      "cell_type": "markdown",
      "metadata": {
        "id": "WXFkvcRryJ0P",
        "colab_type": "text"
      },
      "source": [
        "# to drop rows that contain a missing value from a numpy array"
      ]
    },
    {
      "cell_type": "code",
      "metadata": {
        "id": "QFUAbwQHyLxH",
        "colab_type": "code",
        "colab": {
          "base_uri": "https://localhost:8080/",
          "height": 102
        },
        "outputId": "812cbd29-4b0b-4e52-a76d-696405f80197"
      },
      "source": [
        "# Input\n",
        "url = 'https://archive.ics.uci.edu/ml/machine-learning-databases/iris/iris.data'\n",
        "iris_2d = np.genfromtxt(url, delimiter=',', dtype='float', usecols=[0,1,2,3])\n",
        "iris_2d[np.random.randint(150, size=20), np.random.randint(4, size=20)] = np.nan\n",
        "\n",
        "# Solution\n",
        "# No direct numpy function for this.\n",
        "# Method 1:\n",
        "any_nan_in_row = np.array([~np.any(np.isnan(row)) for row in iris_2d])\n",
        "iris_2d[any_nan_in_row][:5]\n",
        "\n",
        "# Method 2: (By Rong)\n",
        "iris_2d[np.sum(np.isnan(iris_2d), axis = 1) == 0][:5]"
      ],
      "execution_count": 19,
      "outputs": [
        {
          "output_type": "execute_result",
          "data": {
            "text/plain": [
              "array([[4.9, 3. , 1.4, 0.2],\n",
              "       [4.7, 3.2, 1.3, 0.2],\n",
              "       [4.6, 3.1, 1.5, 0.2],\n",
              "       [5. , 3.6, 1.4, 0.2],\n",
              "       [4.6, 3.4, 1.4, 0.3]])"
            ]
          },
          "metadata": {
            "tags": []
          },
          "execution_count": 19
        }
      ]
    },
    {
      "cell_type": "markdown",
      "metadata": {
        "id": "9TPEsY6_yYRn",
        "colab_type": "text"
      },
      "source": [
        "#to find the correlation between two columns"
      ]
    },
    {
      "cell_type": "code",
      "metadata": {
        "id": "lwYpTX1myZcs",
        "colab_type": "code",
        "colab": {
          "base_uri": "https://localhost:8080/",
          "height": 34
        },
        "outputId": "bd5d7553-4710-4ff4-a2aa-acc1fa794645"
      },
      "source": [
        "# Input\n",
        "url = 'https://archive.ics.uci.edu/ml/machine-learning-databases/iris/iris.data'\n",
        "iris = np.genfromtxt(url, delimiter=',', dtype='float', usecols=[0,1,2,3])\n",
        "\n",
        "# Solution 1\n",
        "np.corrcoef(iris[:, 0], iris[:, 2])[0, 1]\n",
        "\n",
        "# Solution 2\n",
        "from scipy.stats.stats import pearsonr  \n",
        "corr, p_value = pearsonr(iris[:, 0], iris[:, 2])\n",
        "print(corr)"
      ],
      "execution_count": 20,
      "outputs": [
        {
          "output_type": "stream",
          "text": [
            "0.8717541573048713\n"
          ],
          "name": "stdout"
        }
      ]
    },
    {
      "cell_type": "markdown",
      "metadata": {
        "id": "hPcbff_9ypP2",
        "colab_type": "text"
      },
      "source": [
        "#to find if a given array has any null values\n"
      ]
    },
    {
      "cell_type": "code",
      "metadata": {
        "id": "DKshQVkTyq-l",
        "colab_type": "code",
        "colab": {
          "base_uri": "https://localhost:8080/",
          "height": 34
        },
        "outputId": "21704b35-21be-41c4-c543-b3d6bd69ebf9"
      },
      "source": [
        "# Input\n",
        "url = 'https://archive.ics.uci.edu/ml/machine-learning-databases/iris/iris.data'\n",
        "iris_2d = np.genfromtxt(url, delimiter=',', dtype='float', usecols=[0,1,2,3])\n",
        "\n",
        "np.isnan(iris_2d).any()"
      ],
      "execution_count": 21,
      "outputs": [
        {
          "output_type": "execute_result",
          "data": {
            "text/plain": [
              "False"
            ]
          },
          "metadata": {
            "tags": []
          },
          "execution_count": 21
        }
      ]
    },
    {
      "cell_type": "markdown",
      "metadata": {
        "id": "2j7KGEHzy0rF",
        "colab_type": "text"
      },
      "source": [
        "#to replace all missing values with 0 in a numpy array"
      ]
    },
    {
      "cell_type": "code",
      "metadata": {
        "id": "DI0SoeEey5hY",
        "colab_type": "code",
        "colab": {
          "base_uri": "https://localhost:8080/",
          "height": 85
        },
        "outputId": "853f0f43-bf31-4647-e082-3e22a81c81c3"
      },
      "source": [
        "# Input\n",
        "url = 'https://archive.ics.uci.edu/ml/machine-learning-databases/iris/iris.data'\n",
        "iris_2d = np.genfromtxt(url, delimiter=',', dtype='float', usecols=[0,1,2,3])\n",
        "iris_2d[np.random.randint(150, size=20), np.random.randint(4, size=20)] = np.nan\n",
        "\n",
        "# Solution\n",
        "iris_2d[np.isnan(iris_2d)] = 0\n",
        "iris_2d[:4]"
      ],
      "execution_count": 22,
      "outputs": [
        {
          "output_type": "execute_result",
          "data": {
            "text/plain": [
              "array([[5.1, 3.5, 1.4, 0.2],\n",
              "       [4.9, 3. , 1.4, 0.2],\n",
              "       [4.7, 3.2, 1.3, 0.2],\n",
              "       [4.6, 3.1, 1.5, 0.2]])"
            ]
          },
          "metadata": {
            "tags": []
          },
          "execution_count": 22
        }
      ]
    },
    {
      "cell_type": "markdown",
      "metadata": {
        "id": "c165SBtPy-qH",
        "colab_type": "text"
      },
      "source": [
        "#to find the count of unique values"
      ]
    },
    {
      "cell_type": "code",
      "metadata": {
        "id": "7c4k5m6fy_9O",
        "colab_type": "code",
        "colab": {
          "base_uri": "https://localhost:8080/",
          "height": 51
        },
        "outputId": "7eec4e8e-8cc7-4cd9-f37c-adaf886d0cbb"
      },
      "source": [
        "# Import iris keeping the text column intact\n",
        "url = 'https://archive.ics.uci.edu/ml/machine-learning-databases/iris/iris.data'\n",
        "iris = np.genfromtxt(url, delimiter=',', dtype='object')\n",
        "names = ('sepallength', 'sepalwidth', 'petallength', 'petalwidth', 'species')\n",
        "\n",
        "# Solution\n",
        "# Extract the species column as an array\n",
        "species = np.array([row.tolist()[4] for row in iris])\n",
        "\n",
        "# Get the unique values and the counts\n",
        "np.unique(species, return_counts=True)"
      ],
      "execution_count": 23,
      "outputs": [
        {
          "output_type": "execute_result",
          "data": {
            "text/plain": [
              "(array([b'Iris-setosa', b'Iris-versicolor', b'Iris-virginica'],\n",
              "       dtype='|S15'), array([50, 50, 50]))"
            ]
          },
          "metadata": {
            "tags": []
          },
          "execution_count": 23
        }
      ]
    },
    {
      "cell_type": "markdown",
      "metadata": {
        "id": "BEVqI3BqzLkd",
        "colab_type": "text"
      },
      "source": [
        "#to convert a numeric to a categorical (text)"
      ]
    },
    {
      "cell_type": "code",
      "metadata": {
        "id": "tem_elyIzMwU",
        "colab_type": "code",
        "colab": {
          "base_uri": "https://localhost:8080/",
          "height": 34
        },
        "outputId": "413efd5d-ee99-45c3-af86-49b1d5e4ba5e"
      },
      "source": [
        "# Input\n",
        "url = 'https://archive.ics.uci.edu/ml/machine-learning-databases/iris/iris.data'\n",
        "iris = np.genfromtxt(url, delimiter=',', dtype='object')\n",
        "names = ('sepallength', 'sepalwidth', 'petallength', 'petalwidth', 'species')\n",
        "\n",
        "# Bin petallength \n",
        "petal_length_bin = np.digitize(iris[:, 2].astype('float'), [0, 3, 5, 10])\n",
        "\n",
        "# Map it to respective category\n",
        "label_map = {1: 'small', 2: 'medium', 3: 'large', 4: np.nan}\n",
        "petal_length_cat = [label_map[x] for x in petal_length_bin]\n",
        "\n",
        "# View\n",
        "petal_length_cat[:4]"
      ],
      "execution_count": 25,
      "outputs": [
        {
          "output_type": "execute_result",
          "data": {
            "text/plain": [
              "['small', 'small', 'small', 'small']"
            ]
          },
          "metadata": {
            "tags": []
          },
          "execution_count": 25
        }
      ]
    },
    {
      "cell_type": "markdown",
      "metadata": {
        "id": "oT41K5TE1btt",
        "colab_type": "text"
      },
      "source": [
        "#to create a new column from existing columns"
      ]
    },
    {
      "cell_type": "code",
      "metadata": {
        "id": "uxOsRZUD1dDG",
        "colab_type": "code",
        "colab": {
          "base_uri": "https://localhost:8080/",
          "height": 136
        },
        "outputId": "ffe4e921-56e7-4f53-bc57-b1d657b79004"
      },
      "source": [
        "# Input\n",
        "url = 'https://archive.ics.uci.edu/ml/machine-learning-databases/iris/iris.data'\n",
        "iris_2d = np.genfromtxt(url, delimiter=',', dtype='object')\n",
        "\n",
        "# Solution\n",
        "# Compute volume\n",
        "sepallength = iris_2d[:, 0].astype('float')\n",
        "petallength = iris_2d[:, 2].astype('float')\n",
        "volume = (np.pi * petallength * (sepallength**2))/3\n",
        "\n",
        "# Introduce new dimension to match iris_2d's\n",
        "volume = volume[:, np.newaxis]\n",
        "\n",
        "# Add the new column\n",
        "out = np.hstack([iris_2d, volume])\n",
        "\n",
        "# View\n",
        "out[:4]"
      ],
      "execution_count": 26,
      "outputs": [
        {
          "output_type": "execute_result",
          "data": {
            "text/plain": [
              "array([[b'5.1', b'3.5', b'1.4', b'0.2', b'Iris-setosa',\n",
              "        38.13265162927291],\n",
              "       [b'4.9', b'3.0', b'1.4', b'0.2', b'Iris-setosa',\n",
              "        35.200498485922445],\n",
              "       [b'4.7', b'3.2', b'1.3', b'0.2', b'Iris-setosa', 30.0723720777127],\n",
              "       [b'4.6', b'3.1', b'1.5', b'0.2', b'Iris-setosa',\n",
              "        33.238050274980004]], dtype=object)"
            ]
          },
          "metadata": {
            "tags": []
          },
          "execution_count": 26
        }
      ]
    },
    {
      "cell_type": "markdown",
      "metadata": {
        "id": "sSebCW-Q3Nzt",
        "colab_type": "text"
      },
      "source": [
        "#to do probabilistic sampling in numpy"
      ]
    },
    {
      "cell_type": "code",
      "metadata": {
        "id": "xiaiNo9r3Pbc",
        "colab_type": "code",
        "colab": {
          "base_uri": "https://localhost:8080/",
          "height": 51
        },
        "outputId": "6e124df6-6eae-43d9-c397-772d2e2dfe73"
      },
      "source": [
        "# Import iris keeping the text column intact\n",
        "url = 'https://archive.ics.uci.edu/ml/machine-learning-databases/iris/iris.data'\n",
        "iris = np.genfromtxt(url, delimiter=',', dtype='object')\n",
        "\n",
        "# Solution\n",
        "# Get the species column\n",
        "species = iris[:, 4]\n",
        "\n",
        "# Approach 1: Generate Probablistically\n",
        "np.random.seed(100)\n",
        "a = np.array(['Iris-setosa', 'Iris-versicolor', 'Iris-virginica'])\n",
        "species_out = np.random.choice(a, 150, p=[0.5, 0.25, 0.25])\n",
        "\n",
        "# Approach 2: Probablistic Sampling (preferred)\n",
        "np.random.seed(100)\n",
        "probs = np.r_[np.linspace(0, 0.500, num=50), np.linspace(0.501, .750, num=50), np.linspace(.751, 1.0, num=50)]\n",
        "index = np.searchsorted(probs, np.random.random(150))\n",
        "species_out = species[index]\n",
        "print(np.unique(species_out, return_counts=True))\n"
      ],
      "execution_count": 27,
      "outputs": [
        {
          "output_type": "stream",
          "text": [
            "(array([b'Iris-setosa', b'Iris-versicolor', b'Iris-virginica'],\n",
            "      dtype=object), array([77, 37, 36]))\n"
          ],
          "name": "stdout"
        }
      ]
    },
    {
      "cell_type": "markdown",
      "metadata": {
        "id": "yonzx7mT3isd",
        "colab_type": "text"
      },
      "source": [
        "#Approach 2 is preferred because it creates an index variable that can be used to sample 2d tabular data."
      ]
    },
    {
      "cell_type": "markdown",
      "metadata": {
        "id": "QyWA5R_l3pG1",
        "colab_type": "text"
      },
      "source": [
        "#to get the second largest value of an array when grouped by another array"
      ]
    },
    {
      "cell_type": "markdown",
      "metadata": {
        "id": "9dgP1MYS32hX",
        "colab_type": "text"
      },
      "source": [
        ""
      ]
    },
    {
      "cell_type": "code",
      "metadata": {
        "id": "9l_g_E6Y3kvu",
        "colab_type": "code",
        "colab": {
          "base_uri": "https://localhost:8080/",
          "height": 34
        },
        "outputId": "3578576a-88fc-43b4-8be4-f317bc8a6037"
      },
      "source": [
        "# Import iris keeping the text column intact\n",
        "url = 'https://archive.ics.uci.edu/ml/machine-learning-databases/iris/iris.data'\n",
        "iris = np.genfromtxt(url, delimiter=',', dtype='object')\n",
        "\n",
        "# Solution\n",
        "# Get the species and petal length columns\n",
        "petal_len_setosa = iris[iris[:, 4] == b'Iris-setosa', [2]].astype('float')\n",
        "\n",
        "# Get the second last value\n",
        "np.unique(np.sort(petal_len_setosa))[-2]"
      ],
      "execution_count": 28,
      "outputs": [
        {
          "output_type": "execute_result",
          "data": {
            "text/plain": [
              "1.7"
            ]
          },
          "metadata": {
            "tags": []
          },
          "execution_count": 28
        }
      ]
    },
    {
      "cell_type": "markdown",
      "metadata": {
        "id": "g314zW-e3385",
        "colab_type": "text"
      },
      "source": [
        "#to sort a 2D array by a column"
      ]
    },
    {
      "cell_type": "code",
      "metadata": {
        "id": "umUAthYc35hR",
        "colab_type": "code",
        "colab": {
          "base_uri": "https://localhost:8080/",
          "height": 357
        },
        "outputId": "78e6dbb1-e4fd-4139-c31e-4bb39d6a70a1"
      },
      "source": [
        "print(iris[iris[:,0].argsort()][:20])"
      ],
      "execution_count": 29,
      "outputs": [
        {
          "output_type": "stream",
          "text": [
            "[[b'4.3' b'3.0' b'1.1' b'0.1' b'Iris-setosa']\n",
            " [b'4.4' b'3.2' b'1.3' b'0.2' b'Iris-setosa']\n",
            " [b'4.4' b'3.0' b'1.3' b'0.2' b'Iris-setosa']\n",
            " [b'4.4' b'2.9' b'1.4' b'0.2' b'Iris-setosa']\n",
            " [b'4.5' b'2.3' b'1.3' b'0.3' b'Iris-setosa']\n",
            " [b'4.6' b'3.6' b'1.0' b'0.2' b'Iris-setosa']\n",
            " [b'4.6' b'3.1' b'1.5' b'0.2' b'Iris-setosa']\n",
            " [b'4.6' b'3.4' b'1.4' b'0.3' b'Iris-setosa']\n",
            " [b'4.6' b'3.2' b'1.4' b'0.2' b'Iris-setosa']\n",
            " [b'4.7' b'3.2' b'1.3' b'0.2' b'Iris-setosa']\n",
            " [b'4.7' b'3.2' b'1.6' b'0.2' b'Iris-setosa']\n",
            " [b'4.8' b'3.0' b'1.4' b'0.1' b'Iris-setosa']\n",
            " [b'4.8' b'3.0' b'1.4' b'0.3' b'Iris-setosa']\n",
            " [b'4.8' b'3.4' b'1.9' b'0.2' b'Iris-setosa']\n",
            " [b'4.8' b'3.4' b'1.6' b'0.2' b'Iris-setosa']\n",
            " [b'4.8' b'3.1' b'1.6' b'0.2' b'Iris-setosa']\n",
            " [b'4.9' b'2.4' b'3.3' b'1.0' b'Iris-versicolor']\n",
            " [b'4.9' b'2.5' b'4.5' b'1.7' b'Iris-virginica']\n",
            " [b'4.9' b'3.1' b'1.5' b'0.1' b'Iris-setosa']\n",
            " [b'4.9' b'3.1' b'1.5' b'0.1' b'Iris-setosa']]\n"
          ],
          "name": "stdout"
        }
      ]
    },
    {
      "cell_type": "markdown",
      "metadata": {
        "id": "FT5PgTPO4HNK",
        "colab_type": "text"
      },
      "source": [
        "#to find the most frequent value"
      ]
    },
    {
      "cell_type": "code",
      "metadata": {
        "id": "whV0XCcn4IiH",
        "colab_type": "code",
        "colab": {
          "base_uri": "https://localhost:8080/",
          "height": 34
        },
        "outputId": "1e9f924f-9ee0-4550-bdac-acf29ae9fd67"
      },
      "source": [
        "# Input:\n",
        "url = 'https://archive.ics.uci.edu/ml/machine-learning-databases/iris/iris.data'\n",
        "iris = np.genfromtxt(url, delimiter=',', dtype='object')\n",
        "\n",
        "# Solution:\n",
        "vals, counts = np.unique(iris[:, 2], return_counts=True)\n",
        "print(vals[np.argmax(counts)])"
      ],
      "execution_count": 30,
      "outputs": [
        {
          "output_type": "stream",
          "text": [
            "b'1.5'\n"
          ],
          "name": "stdout"
        }
      ]
    },
    {
      "cell_type": "markdown",
      "metadata": {
        "id": "pbqB9-Ss4iJ-",
        "colab_type": "text"
      },
      "source": [
        "#to find the position of the first occurrence of a value greater than a given value"
      ]
    },
    {
      "cell_type": "code",
      "metadata": {
        "id": "V8RNVPE-4jxL",
        "colab_type": "code",
        "colab": {
          "base_uri": "https://localhost:8080/",
          "height": 34
        },
        "outputId": "ed97f56f-bbe4-4100-9a47-5913916acb1c"
      },
      "source": [
        "# Input:\n",
        "url = 'https://archive.ics.uci.edu/ml/machine-learning-databases/iris/iris.data'\n",
        "iris = np.genfromtxt(url, delimiter=',', dtype='object')\n",
        "\n",
        "# Solution: (edit: changed argmax to argwhere. Thanks Rong!)\n",
        "np.argwhere(iris[:, 3].astype(float) > 1.0)[0]"
      ],
      "execution_count": 31,
      "outputs": [
        {
          "output_type": "execute_result",
          "data": {
            "text/plain": [
              "array([50])"
            ]
          },
          "metadata": {
            "tags": []
          },
          "execution_count": 31
        }
      ]
    },
    {
      "cell_type": "markdown",
      "metadata": {
        "id": "Z_4PlKf64sH2",
        "colab_type": "text"
      },
      "source": [
        "#to replace all values greater than a given value to a given cutoff"
      ]
    },
    {
      "cell_type": "code",
      "metadata": {
        "id": "k0Ylkk204thn",
        "colab_type": "code",
        "colab": {
          "base_uri": "https://localhost:8080/",
          "height": 51
        },
        "outputId": "0d0ac303-edbc-4627-b42c-6735d8e0beb1"
      },
      "source": [
        "# Input\n",
        "np.set_printoptions(precision=2)\n",
        "np.random.seed(100)\n",
        "a = np.random.uniform(1,50, 20)\n",
        "\n",
        "# Solution 1: Using np.clip\n",
        "np.clip(a, a_min=10, a_max=30)\n",
        "\n",
        "# Solution 2: Using np.where\n",
        "print(np.where(a < 10, 10, np.where(a > 30, 30, a)))"
      ],
      "execution_count": 32,
      "outputs": [
        {
          "output_type": "stream",
          "text": [
            "[27.63 14.64 21.8  30.   10.   10.   30.   30.   10.   29.18 30.   11.25\n",
            " 10.08 10.   11.77 30.   30.   10.   30.   14.43]\n"
          ],
          "name": "stdout"
        }
      ]
    },
    {
      "cell_type": "markdown",
      "metadata": {
        "id": "-zAsxbG7426X",
        "colab_type": "text"
      },
      "source": [
        "#to get the positions of top n values from a numpy array"
      ]
    },
    {
      "cell_type": "code",
      "metadata": {
        "id": "QtEPvI6144pK",
        "colab_type": "code",
        "colab": {
          "base_uri": "https://localhost:8080/",
          "height": 34
        },
        "outputId": "80ee7332-04c2-448f-b042-b5e605e0f161"
      },
      "source": [
        "\n",
        "# Below methods will get you the values.\n",
        "# Method 1:\n",
        "a[a.argsort()][-5:]\n",
        "\n",
        "# Method 2:\n",
        "np.sort(a)[-5:]\n",
        "\n",
        "# Method 3:\n",
        "np.partition(a, kth=-5)[-5:]\n",
        "\n",
        "# Method 4:\n",
        "a[np.argpartition(-a, 5)][:5]"
      ],
      "execution_count": 34,
      "outputs": [
        {
          "output_type": "execute_result",
          "data": {
            "text/plain": [
              "array([48.95, 44.67, 42.39, 41.47, 41.  ])"
            ]
          },
          "metadata": {
            "tags": []
          },
          "execution_count": 34
        }
      ]
    },
    {
      "cell_type": "markdown",
      "metadata": {
        "id": "meATwob-9OXJ",
        "colab_type": "text"
      },
      "source": [
        "#to compute the row wise counts of all possible values in an array"
      ]
    },
    {
      "cell_type": "code",
      "metadata": {
        "id": "ZOwQtdZu9P6f",
        "colab_type": "code",
        "colab": {
          "base_uri": "https://localhost:8080/",
          "height": 102
        },
        "outputId": "02a9715c-c989-495b-a186-2b2d875a71b7"
      },
      "source": [
        "# Input:\n",
        "np.random.seed(100)\n",
        "arr = np.random.randint(1,11,size=(6, 10))\n",
        "# Solution\n",
        "def counts_of_all_values_rowwise(arr2d):\n",
        "    # Unique values and its counts row wise\n",
        "    num_counts_array = [np.unique(row, return_counts=True) for row in arr2d]\n",
        "\n",
        "    # Counts of all values row wise\n",
        "    return([[int(b[a==i]) if i in a else 0 for i in np.unique(arr2d)] for a, b in num_counts_array])\n",
        "\n",
        "# Print\n",
        "print(np.arange(1,11))\n",
        "counts_of_all_values_rowwise(arr)\n",
        "# Example 2:\n",
        "arr = np.array([np.array(list('bill clinton')), np.array(list('narendramodi')), np.array(list('jjayalalitha'))])\n",
        "print(np.unique(arr))\n",
        "counts_of_all_values_rowwise(arr)"
      ],
      "execution_count": 35,
      "outputs": [
        {
          "output_type": "stream",
          "text": [
            "[ 1  2  3  4  5  6  7  8  9 10]\n",
            "[' ' 'a' 'b' 'c' 'd' 'e' 'h' 'i' 'j' 'l' 'm' 'n' 'o' 'r' 't' 'y']\n"
          ],
          "name": "stdout"
        },
        {
          "output_type": "execute_result",
          "data": {
            "text/plain": [
              "[[1, 0, 1, 1, 0, 0, 0, 2, 0, 3, 0, 2, 1, 0, 1, 0],\n",
              " [0, 2, 0, 0, 2, 1, 0, 1, 0, 0, 1, 2, 1, 2, 0, 0],\n",
              " [0, 4, 0, 0, 0, 0, 1, 1, 2, 2, 0, 0, 0, 0, 1, 1]]"
            ]
          },
          "metadata": {
            "tags": []
          },
          "execution_count": 35
        }
      ]
    },
    {
      "cell_type": "markdown",
      "metadata": {
        "id": "PZ82cO5r9jG5",
        "colab_type": "text"
      },
      "source": [
        "#to convert an array of arrays into a flat 1d array"
      ]
    },
    {
      "cell_type": "code",
      "metadata": {
        "id": "hdwoav1l9keg",
        "colab_type": "code",
        "colab": {
          "base_uri": "https://localhost:8080/",
          "height": 51
        },
        "outputId": "37454e68-b0bf-446e-864d-4a437facd2cd"
      },
      "source": [
        "# Input:\n",
        "arr1 = np.arange(3)\n",
        "arr2 = np.arange(3,7)\n",
        "arr3 = np.arange(7,10)\n",
        "\n",
        "array_of_arrays = np.array([arr1, arr2, arr3])\n",
        "print('array_of_arrays: ', array_of_arrays)\n",
        "\n",
        "# Solution 1\n",
        "arr_2d = np.array([a for arr in array_of_arrays for a in arr])\n",
        "\n",
        "# Solution 2:\n",
        "arr_2d = np.concatenate(array_of_arrays)\n",
        "print(arr_2d)"
      ],
      "execution_count": 36,
      "outputs": [
        {
          "output_type": "stream",
          "text": [
            "array_of_arrays:  [array([0, 1, 2]) array([3, 4, 5, 6]) array([7, 8, 9])]\n",
            "[0 1 2 3 4 5 6 7 8 9]\n"
          ],
          "name": "stdout"
        }
      ]
    }
  ]
}