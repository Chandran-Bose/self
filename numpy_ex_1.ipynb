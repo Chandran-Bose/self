{
  "nbformat": 4,
  "nbformat_minor": 0,
  "metadata": {
    "colab": {
      "name": "numpy_ex_1.ipynb",
      "provenance": []
    },
    "kernelspec": {
      "name": "python3",
      "display_name": "Python 3"
    }
  },
  "cells": [
    {
      "cell_type": "code",
      "metadata": {
        "id": "G9g6gExI2aLD",
        "colab_type": "code",
        "colab": {
          "base_uri": "https://localhost:8080/",
          "height": 34
        },
        "outputId": "80237812-6cc2-4f77-8ed2-eb9bb4f28e36"
      },
      "source": [
        "import numpy as np\n",
        "print(np.__version__)"
      ],
      "execution_count": 2,
      "outputs": [
        {
          "output_type": "stream",
          "text": [
            "1.18.2\n"
          ],
          "name": "stdout"
        }
      ]
    },
    {
      "cell_type": "markdown",
      "metadata": {
        "id": "nZu1l9822tRj",
        "colab_type": "text"
      },
      "source": [
        "#create a 1D array"
      ]
    },
    {
      "cell_type": "code",
      "metadata": {
        "id": "ofHaYQuE20Ek",
        "colab_type": "code",
        "colab": {
          "base_uri": "https://localhost:8080/",
          "height": 34
        },
        "outputId": "2b457ddd-fb9a-4dc5-d7ff-8cdfc1260bac"
      },
      "source": [
        "arr = np.arange(10)\n",
        "print(arr)"
      ],
      "execution_count": 4,
      "outputs": [
        {
          "output_type": "stream",
          "text": [
            "[0 1 2 3 4 5 6 7 8 9]\n"
          ],
          "name": "stdout"
        }
      ]
    },
    {
      "cell_type": "markdown",
      "metadata": {
        "id": "uHaKShyo3BQn",
        "colab_type": "text"
      },
      "source": [
        "#create a boolean array"
      ]
    },
    {
      "cell_type": "code",
      "metadata": {
        "id": "mx5Tg5UG3Fif",
        "colab_type": "code",
        "colab": {
          "base_uri": "https://localhost:8080/",
          "height": 119
        },
        "outputId": "f765eaeb-8cab-42e1-8864-b406ac1d63f4"
      },
      "source": [
        "bo1=np.full((3, 3), True, dtype=bool)\n",
        "print(bo1)\n",
        "# Alternate method:\n",
        "bo2=np.ones((3,3), dtype=bool)\n",
        "print(bo2)"
      ],
      "execution_count": 8,
      "outputs": [
        {
          "output_type": "stream",
          "text": [
            "[[ True  True  True]\n",
            " [ True  True  True]\n",
            " [ True  True  True]]\n",
            "[[ True  True  True]\n",
            " [ True  True  True]\n",
            " [ True  True  True]]\n"
          ],
          "name": "stdout"
        }
      ]
    },
    {
      "cell_type": "markdown",
      "metadata": {
        "id": "YKCJxgUk3--c",
        "colab_type": "text"
      },
      "source": [
        "Extract all odd numbers from arr"
      ]
    },
    {
      "cell_type": "code",
      "metadata": {
        "id": "RITUTRkE4BTo",
        "colab_type": "code",
        "colab": {
          "base_uri": "https://localhost:8080/",
          "height": 34
        },
        "outputId": "5f141990-cd58-4a10-80c3-0b2422f7068c"
      },
      "source": [
        "# Solution\n",
        "arr[arr % 2 == 1]"
      ],
      "execution_count": 9,
      "outputs": [
        {
          "output_type": "execute_result",
          "data": {
            "text/plain": [
              "array([1, 3, 5, 7, 9])"
            ]
          },
          "metadata": {
            "tags": []
          },
          "execution_count": 9
        }
      ]
    },
    {
      "cell_type": "markdown",
      "metadata": {
        "id": "DoJdj5t64brn",
        "colab_type": "text"
      },
      "source": [
        "Replace all odd numbers in arr with -1\n"
      ]
    },
    {
      "cell_type": "code",
      "metadata": {
        "id": "nH05Ww6b4dnA",
        "colab_type": "code",
        "colab": {
          "base_uri": "https://localhost:8080/",
          "height": 34
        },
        "outputId": "bb408d8d-b3cc-435a-821e-1f46e2a5256f"
      },
      "source": [
        "arr[arr % 2 == 1] = -1\n",
        "\n",
        "print(arr)"
      ],
      "execution_count": 15,
      "outputs": [
        {
          "output_type": "stream",
          "text": [
            "[ 0 -1  2 -1  4 -1  6 -1  8 -1]\n"
          ],
          "name": "stdout"
        }
      ]
    },
    {
      "cell_type": "markdown",
      "metadata": {
        "id": "XslyMP3g5aZo",
        "colab_type": "text"
      },
      "source": [
        "#to reshape an array"
      ]
    },
    {
      "cell_type": "code",
      "metadata": {
        "id": "zlIoCyc05dPw",
        "colab_type": "code",
        "colab": {
          "base_uri": "https://localhost:8080/",
          "height": 51
        },
        "outputId": "aa56d108-4396-46a7-9042-2b38cb2cd076"
      },
      "source": [
        "arr = np.arange(10)\n",
        "arr.reshape(2, -1)  # Setting to -1 automatically decides the number of cols"
      ],
      "execution_count": 16,
      "outputs": [
        {
          "output_type": "execute_result",
          "data": {
            "text/plain": [
              "array([[0, 1, 2, 3, 4],\n",
              "       [5, 6, 7, 8, 9]])"
            ]
          },
          "metadata": {
            "tags": []
          },
          "execution_count": 16
        }
      ]
    },
    {
      "cell_type": "markdown",
      "metadata": {
        "id": "Zlraj8E_56fb",
        "colab_type": "text"
      },
      "source": [
        "#to stack two arrays vertically"
      ]
    },
    {
      "cell_type": "code",
      "metadata": {
        "id": "M5tJCFtb58qL",
        "colab_type": "code",
        "colab": {
          "base_uri": "https://localhost:8080/",
          "height": 85
        },
        "outputId": "284e3498-0e2b-49cc-8ce7-1e742fa20af6"
      },
      "source": [
        "a = np.arange(10).reshape(2,-1)\n",
        "b = np.repeat(1, 10).reshape(2,-1)\n",
        "print(a)\n",
        "print(b)"
      ],
      "execution_count": 19,
      "outputs": [
        {
          "output_type": "stream",
          "text": [
            "[[0 1 2 3 4]\n",
            " [5 6 7 8 9]]\n",
            "[[1 1 1 1 1]\n",
            " [1 1 1 1 1]]\n"
          ],
          "name": "stdout"
        }
      ]
    },
    {
      "cell_type": "markdown",
      "metadata": {
        "id": "qsGjQ-RT6eqh",
        "colab_type": "text"
      },
      "source": [
        "#to stack two arrays horizontally "
      ]
    },
    {
      "cell_type": "code",
      "metadata": {
        "id": "jNHhHqlH6gdx",
        "colab_type": "code",
        "colab": {
          "base_uri": "https://localhost:8080/",
          "height": 51
        },
        "outputId": "08349503-7e7e-45a1-e35a-4c5b335183d2"
      },
      "source": [
        "a = np.arange(10).reshape(2,-1)\n",
        "b = np.repeat(1, 10).reshape(2,-1)\n",
        "# Method 1:\n",
        "np.concatenate([a, b], axis=1)\n",
        "# Method 2:\n",
        "np.hstack([a, b])\n",
        "# Method 3:\n",
        "np.c_[a, b]"
      ],
      "execution_count": 24,
      "outputs": [
        {
          "output_type": "execute_result",
          "data": {
            "text/plain": [
              "array([[0, 1, 2, 3, 4, 1, 1, 1, 1, 1],\n",
              "       [5, 6, 7, 8, 9, 1, 1, 1, 1, 1]])"
            ]
          },
          "metadata": {
            "tags": []
          },
          "execution_count": 24
        }
      ]
    },
    {
      "cell_type": "markdown",
      "metadata": {
        "id": "w27znX3V7cSZ",
        "colab_type": "text"
      },
      "source": [
        "#Create the following pattern without hardcoding"
      ]
    },
    {
      "cell_type": "code",
      "metadata": {
        "id": "MEwQHr787ekf",
        "colab_type": "code",
        "colab": {
          "base_uri": "https://localhost:8080/",
          "height": 34
        },
        "outputId": "9c80732e-fd57-4b7f-b1e1-65496a4075ad"
      },
      "source": [
        "#array([1, 1, 1, 2, 2, 2, 3, 3, 3, 1, 2, 3, 1, 2, 3, 1, 2, 3])\n",
        "a = np.array([1,2,3])\n",
        "np.r_[np.repeat(a, 3), np.tile(a, 3)]"
      ],
      "execution_count": 26,
      "outputs": [
        {
          "output_type": "execute_result",
          "data": {
            "text/plain": [
              "array([1, 1, 1, 2, 2, 2, 3, 3, 3, 1, 2, 3, 1, 2, 3, 1, 2, 3])"
            ]
          },
          "metadata": {
            "tags": []
          },
          "execution_count": 26
        }
      ]
    },
    {
      "cell_type": "markdown",
      "metadata": {
        "id": "Rkp-Rbjl7-Ea",
        "colab_type": "text"
      },
      "source": [
        "#Get the common items between a and b"
      ]
    },
    {
      "cell_type": "code",
      "metadata": {
        "id": "m58BNsoA8AB_",
        "colab_type": "code",
        "colab": {
          "base_uri": "https://localhost:8080/",
          "height": 34
        },
        "outputId": "aaad099a-fd77-4989-a86e-ef6e06869741"
      },
      "source": [
        "a = np.array([1,2,3,2,3,4,3,4,5,6])\n",
        "b = np.array([7,2,10,2,7,4,9,4,9,8])\n",
        "np.intersect1d(a,b)"
      ],
      "execution_count": 27,
      "outputs": [
        {
          "output_type": "execute_result",
          "data": {
            "text/plain": [
              "array([2, 4])"
            ]
          },
          "metadata": {
            "tags": []
          },
          "execution_count": 27
        }
      ]
    },
    {
      "cell_type": "markdown",
      "metadata": {
        "id": "ceHdRv7l8TR0",
        "colab_type": "text"
      },
      "source": [
        "#From array a remove all items present in array b"
      ]
    },
    {
      "cell_type": "code",
      "metadata": {
        "id": "bs4Y1X-N8Uub",
        "colab_type": "code",
        "colab": {
          "base_uri": "https://localhost:8080/",
          "height": 34
        },
        "outputId": "5bbfd143-cec8-4d5b-8642-a170676675e3"
      },
      "source": [
        "a = np.array([1,2,3,4,5])\n",
        "b = np.array([5,6,7,8,9])\n",
        "np.setdiff1d(a,b)"
      ],
      "execution_count": 28,
      "outputs": [
        {
          "output_type": "execute_result",
          "data": {
            "text/plain": [
              "array([1, 2, 3, 4])"
            ]
          },
          "metadata": {
            "tags": []
          },
          "execution_count": 28
        }
      ]
    },
    {
      "cell_type": "markdown",
      "metadata": {
        "id": "Z0btUGJZ8oxu",
        "colab_type": "text"
      },
      "source": [
        "#Get the positions where elements of a and b match"
      ]
    },
    {
      "cell_type": "code",
      "metadata": {
        "id": "PtfDw4E68qXY",
        "colab_type": "code",
        "colab": {
          "base_uri": "https://localhost:8080/",
          "height": 34
        },
        "outputId": "9d6417f4-b369-4f19-b900-6082fba649b0"
      },
      "source": [
        "a = np.array([1,2,3,2,3,4,3,4,5,6])\n",
        "b = np.array([7,2,10,2,7,4,9,4,9,8])\n",
        "np.where(a == b)"
      ],
      "execution_count": 29,
      "outputs": [
        {
          "output_type": "execute_result",
          "data": {
            "text/plain": [
              "(array([1, 3, 5, 7]),)"
            ]
          },
          "metadata": {
            "tags": []
          },
          "execution_count": 29
        }
      ]
    },
    {
      "cell_type": "markdown",
      "metadata": {
        "id": "6fvq_D6988ab",
        "colab_type": "text"
      },
      "source": [
        "#to extract all numbers between a given range"
      ]
    },
    {
      "cell_type": "code",
      "metadata": {
        "id": "GQbuJpB_8-Eb",
        "colab_type": "code",
        "colab": {
          "base_uri": "https://localhost:8080/",
          "height": 34
        },
        "outputId": "f600ad7b-57af-4d8d-8343-f16ad91a6353"
      },
      "source": [
        "#Get all items between 5 and 10 from a\n",
        "a = np.arange(15)\n",
        "# Method 1\n",
        "index = np.where((a >= 5) & (a <= 10))\n",
        "a[index]\n",
        "# Method 2:\n",
        "index = np.where(np.logical_and(a>=5, a<=10))\n",
        "a[index]\n",
        "# Method 3: (thanks loganzk!)\n",
        "a[(a >= 5) & (a <= 10)]"
      ],
      "execution_count": 33,
      "outputs": [
        {
          "output_type": "execute_result",
          "data": {
            "text/plain": [
              "array([ 5,  6,  7,  8,  9, 10])"
            ]
          },
          "metadata": {
            "tags": []
          },
          "execution_count": 33
        }
      ]
    },
    {
      "cell_type": "markdown",
      "metadata": {
        "id": "UD1YJJq19_M2",
        "colab_type": "text"
      },
      "source": [
        "#Convert the function maxx that works on two scalars, to work on two arrays."
      ]
    },
    {
      "cell_type": "code",
      "metadata": {
        "id": "2r3vBBrQ-Ww2",
        "colab_type": "code",
        "colab": {
          "base_uri": "https://localhost:8080/",
          "height": 34
        },
        "outputId": "c10f39aa-cbec-4231-bc28-5f0c9e04c13f"
      },
      "source": [
        "def maxx(x, y):\n",
        "    \"\"\"Get the maximum of two items\"\"\"\n",
        "    if x >= y:\n",
        "        return x\n",
        "    else:\n",
        "        return y\n",
        "\n",
        "pair_max = np.vectorize(maxx, otypes=[float])\n",
        "\n",
        "a = np.array([5, 7, 9, 8, 6, 4, 5])\n",
        "b = np.array([6, 3, 4, 8, 9, 7, 1])\n",
        "\n",
        "pair_max(a, b)"
      ],
      "execution_count": 34,
      "outputs": [
        {
          "output_type": "execute_result",
          "data": {
            "text/plain": [
              "array([6., 7., 9., 8., 9., 7., 5.])"
            ]
          },
          "metadata": {
            "tags": []
          },
          "execution_count": 34
        }
      ]
    },
    {
      "cell_type": "markdown",
      "metadata": {
        "id": "LDX1UUWE-mF1",
        "colab_type": "text"
      },
      "source": [
        "#Swap columns 1 and 2 in the array"
      ]
    },
    {
      "cell_type": "code",
      "metadata": {
        "id": "jsvuG10S-pn6",
        "colab_type": "code",
        "colab": {
          "base_uri": "https://localhost:8080/",
          "height": 68
        },
        "outputId": "3130681a-8d8f-4877-9eca-ab39d021bdf6"
      },
      "source": [
        "arr = np.arange(9).reshape(3,3)\n",
        "arr[:, [1,0,2]]"
      ],
      "execution_count": 37,
      "outputs": [
        {
          "output_type": "execute_result",
          "data": {
            "text/plain": [
              "array([[1, 0, 2],\n",
              "       [4, 3, 5],\n",
              "       [7, 6, 8]])"
            ]
          },
          "metadata": {
            "tags": []
          },
          "execution_count": 37
        }
      ]
    },
    {
      "cell_type": "markdown",
      "metadata": {
        "id": "WPWzh1FV_SPU",
        "colab_type": "text"
      },
      "source": [
        "#to swap two rows in a 2d"
      ]
    },
    {
      "cell_type": "code",
      "metadata": {
        "id": "7J1V8sKk-8j4",
        "colab_type": "code",
        "colab": {
          "base_uri": "https://localhost:8080/",
          "height": 68
        },
        "outputId": "a3e547b3-0e57-4c10-e964-96da3c6c29d8"
      },
      "source": [
        "arr = np.arange(9).reshape(3,3)\n",
        "arr[[1,0,2], :]"
      ],
      "execution_count": 38,
      "outputs": [
        {
          "output_type": "execute_result",
          "data": {
            "text/plain": [
              "array([[3, 4, 5],\n",
              "       [0, 1, 2],\n",
              "       [6, 7, 8]])"
            ]
          },
          "metadata": {
            "tags": []
          },
          "execution_count": 38
        }
      ]
    },
    {
      "cell_type": "markdown",
      "metadata": {
        "id": "S4hick_C_p2m",
        "colab_type": "text"
      },
      "source": [
        "#to reverse the rows of a 2D"
      ]
    },
    {
      "cell_type": "code",
      "metadata": {
        "id": "whbXyx7r_s_I",
        "colab_type": "code",
        "colab": {
          "base_uri": "https://localhost:8080/",
          "height": 68
        },
        "outputId": "4d969bff-4495-4b5e-f0e8-2028c53129e4"
      },
      "source": [
        "# Input\n",
        "arr = np.arange(9).reshape(3,3)\n",
        "\n",
        "# Solution\n",
        "arr[::-1]"
      ],
      "execution_count": 39,
      "outputs": [
        {
          "output_type": "execute_result",
          "data": {
            "text/plain": [
              "array([[6, 7, 8],\n",
              "       [3, 4, 5],\n",
              "       [0, 1, 2]])"
            ]
          },
          "metadata": {
            "tags": []
          },
          "execution_count": 39
        }
      ]
    },
    {
      "cell_type": "markdown",
      "metadata": {
        "id": "65ECqWz0_3w1",
        "colab_type": "text"
      },
      "source": [
        "#to reverse the columns of a 2D"
      ]
    },
    {
      "cell_type": "code",
      "metadata": {
        "id": "HBHOtvw9_6BW",
        "colab_type": "code",
        "colab": {
          "base_uri": "https://localhost:8080/",
          "height": 68
        },
        "outputId": "034cb702-e3e4-4cde-c452-053afed30b7a"
      },
      "source": [
        "# Input\n",
        "arr = np.arange(9).reshape(3,3)\n",
        "\n",
        "# Solution\n",
        "arr[:, ::-1]"
      ],
      "execution_count": 40,
      "outputs": [
        {
          "output_type": "execute_result",
          "data": {
            "text/plain": [
              "array([[2, 1, 0],\n",
              "       [5, 4, 3],\n",
              "       [8, 7, 6]])"
            ]
          },
          "metadata": {
            "tags": []
          },
          "execution_count": 40
        }
      ]
    },
    {
      "cell_type": "markdown",
      "metadata": {
        "id": "pyZCHOV3ARN9",
        "colab_type": "text"
      },
      "source": [
        "#2D array of shape 5×3 to contain random decimal numbers between 5 and 10."
      ]
    },
    {
      "cell_type": "code",
      "metadata": {
        "id": "Ouc1JSRKASrA",
        "colab_type": "code",
        "colab": {
          "base_uri": "https://localhost:8080/",
          "height": 102
        },
        "outputId": "b849d2ea-8008-4060-cdc4-451e05f2000d"
      },
      "source": [
        "\n",
        "# Solution Method 1:\n",
        "rand_arr = np.random.randint(low=5, high=10, size=(5,3)) + np.random.random((5,3))\n",
        "# print(rand_arr)\n",
        "\n",
        "# Solution Method 2:\n",
        "rand_arr = np.random.uniform(5,10, size=(5,3))\n",
        "print(rand_arr)"
      ],
      "execution_count": 41,
      "outputs": [
        {
          "output_type": "stream",
          "text": [
            "[[5.66994321 5.73548352 8.83743621]\n",
            " [9.40722956 6.49749487 9.82265455]\n",
            " [6.61083447 8.67986284 7.24393776]\n",
            " [6.47301914 8.61414347 5.21910991]\n",
            " [8.39049455 6.23506813 9.5906887 ]]\n"
          ],
          "name": "stdout"
        }
      ]
    },
    {
      "cell_type": "markdown",
      "metadata": {
        "id": "tn7pEV-IAnWq",
        "colab_type": "text"
      },
      "source": [
        "#show only 3 decimal places"
      ]
    },
    {
      "cell_type": "code",
      "metadata": {
        "id": "agij0WUnAo1u",
        "colab_type": "code",
        "colab": {
          "base_uri": "https://localhost:8080/",
          "height": 85
        },
        "outputId": "01b38f86-b947-4062-9e91-e60b3a23f65e"
      },
      "source": [
        "# Input\n",
        "rand_arr = np.random.random((5,3))\n",
        "\n",
        "# Create the random array\n",
        "rand_arr = np.random.random([5,3])\n",
        "\n",
        "# Limit to 3 decimal places\n",
        "np.set_printoptions(precision=3)\n",
        "rand_arr[:4]"
      ],
      "execution_count": 42,
      "outputs": [
        {
          "output_type": "execute_result",
          "data": {
            "text/plain": [
              "array([[0.051, 0.756, 0.681],\n",
              "       [0.809, 0.153, 0.585],\n",
              "       [0.458, 0.162, 0.276],\n",
              "       [0.433, 0.499, 0.406]])"
            ]
          },
          "metadata": {
            "tags": []
          },
          "execution_count": 42
        }
      ]
    },
    {
      "cell_type": "markdown",
      "metadata": {
        "id": "EruDU-XhBMB_",
        "colab_type": "text"
      },
      "source": [
        "#print rand_arr by suppressing the scientific notation (like 1e10)"
      ]
    },
    {
      "cell_type": "code",
      "metadata": {
        "id": "41puXYISBO2I",
        "colab_type": "code",
        "colab": {
          "base_uri": "https://localhost:8080/",
          "height": 68
        },
        "outputId": "71d94e46-695d-4203-df0b-de980c33005c"
      },
      "source": [
        "# Reset printoptions to default\n",
        "np.set_printoptions(suppress=False)\n",
        "\n",
        "# Create the random array\n",
        "np.random.seed(100)\n",
        "rand_arr = np.random.random([3,3])/1e3\n",
        "rand_arr"
      ],
      "execution_count": 44,
      "outputs": [
        {
          "output_type": "execute_result",
          "data": {
            "text/plain": [
              "array([[5.434e-04, 2.784e-04, 4.245e-04],\n",
              "       [8.448e-04, 4.719e-06, 1.216e-04],\n",
              "       [6.707e-04, 8.259e-04, 1.367e-04]])"
            ]
          },
          "metadata": {
            "tags": []
          },
          "execution_count": 44
        }
      ]
    },
    {
      "cell_type": "markdown",
      "metadata": {
        "id": "-qV9n4-iBjoR",
        "colab_type": "text"
      },
      "source": [
        "#Limit the number of items printed in python numpy array a to a maximum of 6 elements."
      ]
    },
    {
      "cell_type": "code",
      "metadata": {
        "id": "H9S-WRNGBk68",
        "colab_type": "code",
        "colab": {
          "base_uri": "https://localhost:8080/",
          "height": 34
        },
        "outputId": "96678732-57fa-45aa-90b4-98d87ff2d056"
      },
      "source": [
        "\n",
        "np.set_printoptions(threshold=6)\n",
        "a = np.arange(15)\n",
        "a\n"
      ],
      "execution_count": 49,
      "outputs": [
        {
          "output_type": "execute_result",
          "data": {
            "text/plain": [
              "array([ 0,  1,  2, ..., 12, 13, 14])"
            ]
          },
          "metadata": {
            "tags": []
          },
          "execution_count": 49
        }
      ]
    },
    {
      "cell_type": "markdown",
      "metadata": {
        "id": "qVRA59YKCVLL",
        "colab_type": "text"
      },
      "source": [
        "#to print the full numpy array without truncating"
      ]
    },
    {
      "cell_type": "code",
      "metadata": {
        "id": "q9mWG5m-CXA_",
        "colab_type": "code",
        "colab": {
          "base_uri": "https://localhost:8080/",
          "height": 34
        },
        "outputId": "7443149f-e705-42ab-e6e4-f8ef471cd249"
      },
      "source": [
        "# Input\n",
        "np.set_printoptions(threshold=6)\n",
        "a = np.arange(15)\n",
        "np.set_printoptions(threshold=np.inf)\n",
        "a"
      ],
      "execution_count": 59,
      "outputs": [
        {
          "output_type": "execute_result",
          "data": {
            "text/plain": [
              "array([ 0,  1,  2,  3,  4,  5,  6,  7,  8,  9, 10, 11, 12, 13, 14])"
            ]
          },
          "metadata": {
            "tags": []
          },
          "execution_count": 59
        }
      ]
    },
    {
      "cell_type": "markdown",
      "metadata": {
        "id": "oMNqxgKwDx2-",
        "colab_type": "text"
      },
      "source": [
        "#Import the iris dataset keeping the text intact"
      ]
    },
    {
      "cell_type": "code",
      "metadata": {
        "id": "Ndquov1lEFEK",
        "colab_type": "code",
        "colab": {
          "base_uri": "https://localhost:8080/",
          "height": 68
        },
        "outputId": "d3be2032-e124-4e41-cdf8-79ce2ed5233a"
      },
      "source": [
        "# Solution\n",
        "url = 'https://archive.ics.uci.edu/ml/machine-learning-databases/iris/iris.data'\n",
        "iris = np.genfromtxt(url, delimiter=',', dtype='object')\n",
        "names = ('sepallength', 'sepalwidth', 'petallength', 'petalwidth', 'species')\n",
        "\n",
        "# Print the first 3 rows\n",
        "iris[:3]"
      ],
      "execution_count": 60,
      "outputs": [
        {
          "output_type": "execute_result",
          "data": {
            "text/plain": [
              "array([[b'5.1', b'3.5', b'1.4', b'0.2', b'Iris-setosa'],\n",
              "       [b'4.9', b'3.0', b'1.4', b'0.2', b'Iris-setosa'],\n",
              "       [b'4.7', b'3.2', b'1.3', b'0.2', b'Iris-setosa']], dtype=object)"
            ]
          },
          "metadata": {
            "tags": []
          },
          "execution_count": 60
        }
      ]
    }
  ]
}